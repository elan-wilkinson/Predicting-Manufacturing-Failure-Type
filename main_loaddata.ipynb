{
 "cells": [
  {
   "cell_type": "markdown",
   "metadata": {},
   "source": [
    "# Team 4: Machine Predictive Maintenance Classification\n",
    "\n",
    "Contributors: Elan Wilkinson, Zack Robertson, Alden Caterio, Laxmi Sulakshana Rapolu"
   ]
  },
  {
   "cell_type": "markdown",
   "metadata": {},
   "source": [
    "## Introduction\n",
    "\n",
    "The realm of predictive maintenance is pivotal in industry, where the anticipation of machine failures can save substantial costs and prevent downtime. However, obtaining real-world datasets for predictive maintenance poses significant challenges due to privacy and proprietary concerns. This paper leverages the AI4I 2020 Predictive Maintenance Dataset, a synthetic dataset crafted to mirror the complexities and characteristics of genuine industrial predictive maintenance data. Machine learning (ML) is integral to predictive maintenance, utilizing labeled data (datasets with known target variables) to predict when maintenance is needed. This ensures maintenance is timely, preventing failures while optimizing costs. Techniques such as decision trees, support vector machines, neural networks, and more sophisticated methods like ensemble and deep learning, are employed to enhance the accuracy of these predictions. By analyzing operational parameters like temperature and vibration, ML models can effectively forecast machine failures, transforming maintenance from a routine schedule to a data-driven decision process."
   ]
  },
  {
   "cell_type": "markdown",
   "metadata": {},
   "source": [
    "## Dataset\n",
    "The AI4I 2020 Predictive Maintenance Dataset encompasses 10,000 data points, each with 14 distinct features1. These features include a unique identifier (UID), product ID with quality variants (L, M, H), air temperature [K], process temperature [K], rotational speed [rpm], torque [Nm], tool wear [min], and a ‘machine failure’ label indicating the occurrence of a failure. The dataset ingeniously simulates five independent failure modes: tool wear failure (TWF), heat dissipation failure (HDF), power failure (PWF), overstrain failure (OSF), and random failures (RNF)3. Each mode is defined by specific conditions, such as the relationship between torque and rotational speed or the product of tool wear and torque.\n",
    "\n",
    "Dataset URL: https://archive.ics.uci.edu/dataset/601/ai4i+2020+predictive+maintenance+dataset"
   ]
  },
  {
   "cell_type": "markdown",
   "metadata": {},
   "source": [
    "## Packages"
   ]
  },
  {
   "cell_type": "code",
   "execution_count": 1,
   "metadata": {},
   "outputs": [
    {
     "name": "stdout",
     "output_type": "stream",
     "text": [
      "Requirement already satisfied: ucimlrepo in c:\\users\\obbs6\\anaconda3\\lib\\site-packages (0.0.7)\n",
      "Requirement already satisfied: pandas in c:\\users\\obbs6\\anaconda3\\lib\\site-packages (1.5.3)\n",
      "Requirement already satisfied: numpy in c:\\users\\obbs6\\anaconda3\\lib\\site-packages (1.24.4)\n",
      "Requirement already satisfied: matplotlib in c:\\users\\obbs6\\anaconda3\\lib\\site-packages (3.8.0)\n",
      "Requirement already satisfied: seaborn in c:\\users\\obbs6\\anaconda3\\lib\\site-packages (0.12.2)\n",
      "Requirement already satisfied: certifi>=2020.12.5 in c:\\users\\obbs6\\anaconda3\\lib\\site-packages (from ucimlrepo) (2024.2.2)\n",
      "Requirement already satisfied: python-dateutil>=2.8.1 in c:\\users\\obbs6\\anaconda3\\lib\\site-packages (from pandas) (2.8.2)\n",
      "Requirement already satisfied: pytz>=2020.1 in c:\\users\\obbs6\\anaconda3\\lib\\site-packages (from pandas) (2023.3.post1)\n",
      "Requirement already satisfied: contourpy>=1.0.1 in c:\\users\\obbs6\\anaconda3\\lib\\site-packages (from matplotlib) (1.2.0)\n",
      "Requirement already satisfied: cycler>=0.10 in c:\\users\\obbs6\\anaconda3\\lib\\site-packages (from matplotlib) (0.11.0)\n",
      "Requirement already satisfied: fonttools>=4.22.0 in c:\\users\\obbs6\\anaconda3\\lib\\site-packages (from matplotlib) (4.25.0)\n",
      "Requirement already satisfied: kiwisolver>=1.0.1 in c:\\users\\obbs6\\anaconda3\\lib\\site-packages (from matplotlib) (1.4.4)\n",
      "Requirement already satisfied: packaging>=20.0 in c:\\users\\obbs6\\anaconda3\\lib\\site-packages (from matplotlib) (23.1)\n",
      "Requirement already satisfied: pillow>=6.2.0 in c:\\users\\obbs6\\anaconda3\\lib\\site-packages (from matplotlib) (10.2.0)\n",
      "Requirement already satisfied: pyparsing>=2.3.1 in c:\\users\\obbs6\\anaconda3\\lib\\site-packages (from matplotlib) (3.0.9)\n",
      "Requirement already satisfied: six>=1.5 in c:\\users\\obbs6\\anaconda3\\lib\\site-packages (from python-dateutil>=2.8.1->pandas) (1.16.0)\n"
     ]
    }
   ],
   "source": [
    " # Install necessary packages (if not already installed)\n",
    "!pip install ucimlrepo pandas numpy matplotlib seaborn\n",
    "\n",
    "# Import required libraries\n",
    "from ucimlrepo import fetch_ucirepo\n",
    "import pandas as pd\n",
    "import numpy as np\n",
    "import seaborn as sns\n",
    "import matplotlib.pyplot as plt \n"
   ]
  },
  {
   "cell_type": "markdown",
   "metadata": {},
   "source": [
    "## Load Dataset"
   ]
  },
  {
   "cell_type": "code",
   "execution_count": 2,
   "metadata": {},
   "outputs": [],
   "source": [
    "# fetch dataset \n",
    "ai4i_2020_predictive_maintenance_dataset = fetch_ucirepo(id=601) \n",
    "  \n",
    "# data (as pandas dataframes) \n",
    "df_ids = ai4i_2020_predictive_maintenance_dataset.data.ids # data with role ID\n",
    "df_features = ai4i_2020_predictive_maintenance_dataset.data.features # data with role Feature\n",
    "df_target = ai4i_2020_predictive_maintenance_dataset.data.targets # data with role Target\n",
    "df = pd.concat([df_ids, df_features, df_target], axis=1)"
   ]
  },
  {
   "cell_type": "code",
   "execution_count": 3,
   "metadata": {},
   "outputs": [
    {
     "name": "stdout",
     "output_type": "stream",
     "text": [
      "Metadata: \n",
      " {'uci_id': 601, 'name': 'AI4I 2020 Predictive Maintenance Dataset', 'repository_url': 'https://archive.ics.uci.edu/dataset/601/ai4i+2020+predictive+maintenance+dataset', 'data_url': 'https://archive.ics.uci.edu/static/public/601/data.csv', 'abstract': 'The AI4I 2020 Predictive Maintenance Dataset is a synthetic dataset that reflects real predictive maintenance data encountered in industry.', 'area': 'Computer Science', 'tasks': ['Classification', 'Regression', 'Causal-Discovery'], 'characteristics': ['Multivariate', 'Time-Series'], 'num_instances': 10000, 'num_features': 6, 'feature_types': ['Real'], 'demographics': [], 'target_col': ['Machine failure', 'TWF', 'HDF', 'PWF', 'OSF', 'RNF'], 'index_col': ['UID', 'Product ID'], 'has_missing_values': 'no', 'missing_values_symbol': None, 'year_of_dataset_creation': 2020, 'last_updated': 'Wed Feb 14 2024', 'dataset_doi': '10.24432/C5HS5C', 'creators': [], 'intro_paper': {'title': 'Explainable Artificial Intelligence for Predictive Maintenance Applications', 'authors': 'S. Matzka', 'published_in': 'International Conference on Artificial Intelligence for Industries', 'year': 2020, 'url': 'https://www.semanticscholar.org/paper/b609c8e9ec6a2b8c642810953ef6dffe5766f7c1', 'doi': '10.1109/AI4I49448.2020.00023'}, 'additional_info': {'summary': 'Since real predictive maintenance datasets are generally difficult to obtain and in particular difficult to publish, we present and provide a synthetic dataset that reflects real predictive maintenance encountered in industry to the best of our knowledge.\\r\\n\\r\\n\\r\\n\\r\\n', 'purpose': None, 'funded_by': None, 'instances_represent': None, 'recommended_data_splits': None, 'sensitive_data': None, 'preprocessing_description': None, 'variable_info': \"The dataset consists of 10 000 data points stored as rows with 14 features in columns\\r\\nUID: unique identifier ranging from 1 to 10000\\r\\nproduct ID: consisting of a letter L, M, or H for low (50% of all products), medium (30%) and high (20%) as product quality variants and a variant-specific serial number\\r\\nair temperature [K]: generated using a random walk process later normalized to a standard deviation of 2 K around 300 K\\r\\nprocess temperature [K]: generated using a random walk process normalized to a standard deviation of 1 K, added to the air temperature plus 10 K.\\r\\nrotational speed [rpm]: calculated from a power of 2860 W, overlaid with a normally distributed noise\\r\\ntorque [Nm]: torque values are normally distributed around 40 Nm with a Ïƒ = 10 Nm and no negative values. \\r\\ntool wear [min]: The quality variants H/M/L add 5/3/2 minutes of tool wear to the used tool in the process. and a\\r\\n'machine failure' label that indicates, whether the machine has failed in this particular datapoint for any of the following failure modes are true.\\r\\n\\r\\nThe machine failure consists of five independent failure modes\\r\\ntool wear failure (TWF): the tool will be replaced of fail at a randomly selected tool wear time between 200 â€“ 240 mins (120 times in our dataset). At this point in time, the tool is replaced 69 times, and fails 51 times (randomly assigned).\\r\\nheat dissipation failure (HDF): heat dissipation causes a process failure, if the difference between air- and process temperature is below 8.6 K and the toolâ€™s rotational speed is below 1380 rpm. This is the case for 115 data points.\\r\\npower failure (PWF): the product of torque and rotational speed (in rad/s) equals the power required for the process. If this power is below 3500 W or above 9000 W, the process fails, which is the case 95 times in our dataset.\\r\\noverstrain failure (OSF): if the product of tool wear and torque exceeds 11,000 minNm for the L product variant (12,000 M, 13,000 H), the process fails due to overstrain. This is true for 98 datapoints.\\r\\nrandom failures (RNF): each process has a chance of 0,1 % to fail regardless of its process parameters. This is the case for only 5 datapoints, less than could be expected for 10,000 datapoints in our dataset.\\r\\n\\r\\nIf at least one of the above failure modes is true, the process fails and the 'machine failure' label is set to 1. It is therefore not transparent to the machine learning method, which of the failure modes has caused the process to fail \", 'citation': None}} \n",
      "\n",
      "Variable information: \n",
      "                    name     role         type demographic description units  \\\n",
      "0                   UID       ID      Integer        None        None  None   \n",
      "1            Product ID       ID  Categorical        None        None  None   \n",
      "2                  Type  Feature  Categorical        None        None  None   \n",
      "3       Air temperature  Feature   Continuous        None        None     K   \n",
      "4   Process temperature  Feature   Continuous        None        None     K   \n",
      "5      Rotational speed  Feature      Integer        None        None   rpm   \n",
      "6                Torque  Feature   Continuous        None        None    Nm   \n",
      "7             Tool wear  Feature      Integer        None        None   min   \n",
      "8       Machine failure   Target      Integer        None        None  None   \n",
      "9                   TWF   Target      Integer        None        None  None   \n",
      "10                  HDF   Target      Integer        None        None  None   \n",
      "11                  PWF   Target      Integer        None        None  None   \n",
      "12                  OSF   Target      Integer        None        None  None   \n",
      "13                  RNF   Target      Integer        None        None  None   \n",
      "\n",
      "   missing_values  \n",
      "0              no  \n",
      "1              no  \n",
      "2              no  \n",
      "3              no  \n",
      "4              no  \n",
      "5              no  \n",
      "6              no  \n",
      "7              no  \n",
      "8              no  \n",
      "9              no  \n",
      "10             no  \n",
      "11             no  \n",
      "12             no  \n",
      "13             no   \n",
      "\n",
      "Dataset with role ID: \n",
      "    UID Product ID\n",
      "0    1     M14860\n",
      "1    2     L47181\n",
      "2    3     L47182\n",
      "3    4     L47183\n",
      "4    5     L47184 \n",
      "\n",
      "Dataset with role Feature: \n",
      "   Type  Air temperature  Process temperature  Rotational speed  Torque  \\\n",
      "0    M            298.1                308.6              1551    42.8   \n",
      "1    L            298.2                308.7              1408    46.3   \n",
      "2    L            298.1                308.5              1498    49.4   \n",
      "3    L            298.2                308.6              1433    39.5   \n",
      "4    L            298.2                308.7              1408    40.0   \n",
      "\n",
      "   Tool wear  \n",
      "0          0  \n",
      "1          3  \n",
      "2          5  \n",
      "3          7  \n",
      "4          9   \n",
      "\n",
      "Dataset with role Target: \n",
      "    Machine failure  TWF  HDF  PWF  OSF  RNF\n",
      "0                0    0    0    0    0    0\n",
      "1                0    0    0    0    0    0\n",
      "2                0    0    0    0    0    0\n",
      "3                0    0    0    0    0    0\n",
      "4                0    0    0    0    0    0 \n",
      "\n",
      "Final dataset: \n",
      "    UID Product ID Type  Air temperature  Process temperature  \\\n",
      "0    1     M14860    M            298.1                308.6   \n",
      "1    2     L47181    L            298.2                308.7   \n",
      "2    3     L47182    L            298.1                308.5   \n",
      "3    4     L47183    L            298.2                308.6   \n",
      "4    5     L47184    L            298.2                308.7   \n",
      "\n",
      "   Rotational speed  Torque  Tool wear  Machine failure  TWF  HDF  PWF  OSF  \\\n",
      "0              1551    42.8          0                0    0    0    0    0   \n",
      "1              1408    46.3          3                0    0    0    0    0   \n",
      "2              1498    49.4          5                0    0    0    0    0   \n",
      "3              1433    39.5          7                0    0    0    0    0   \n",
      "4              1408    40.0          9                0    0    0    0    0   \n",
      "\n",
      "   RNF  \n",
      "0    0  \n",
      "1    0  \n",
      "2    0  \n",
      "3    0  \n",
      "4    0   \n",
      "\n",
      "Machine failure dataset: \n",
      "      UID Product ID Type  Air temperature  Process temperature  \\\n",
      "50    51     L47230    L            298.9                309.1   \n",
      "69    70     L47249    L            298.9                309.0   \n",
      "77    78     L47257    L            298.8                308.9   \n",
      "160  161     L47340    L            298.4                308.2   \n",
      "161  162     L47341    L            298.3                308.1   \n",
      "\n",
      "     Rotational speed  Torque  Tool wear  Machine failure  TWF  HDF  PWF  OSF  \\\n",
      "50               2861     4.6        143                1    0    0    1    0   \n",
      "69               1410    65.7        191                1    0    0    1    1   \n",
      "77               1455    41.3        208                1    1    0    0    0   \n",
      "160              1282    60.7        216                1    0    0    0    1   \n",
      "161              1412    52.3        218                1    0    0    0    1   \n",
      "\n",
      "     RNF  \n",
      "50     0  \n",
      "69     0  \n",
      "77     0  \n",
      "160    0  \n",
      "161    0  \n"
     ]
    }
   ],
   "source": [
    "# metadata \n",
    "print('Metadata: \\r\\n', ai4i_2020_predictive_maintenance_dataset.metadata, '\\r\\n') \n",
    "  \n",
    "# variable information \n",
    "print('Variable information: \\r\\n', ai4i_2020_predictive_maintenance_dataset.variables, '\\r\\n')\n",
    "\n",
    "# ID dataset\n",
    "print('Dataset with role ID: \\r\\n', df_ids.head(), '\\r\\n')\n",
    "\n",
    "# Feature dataset\n",
    "print('Dataset with role Feature: \\r\\n', df_features.head(), '\\r\\n')\n",
    "\n",
    "# Target dataset\n",
    "print('Dataset with role Target: \\r\\n', df_target.head(), '\\r\\n')\n",
    "\n",
    "# Final dataset\n",
    "print('Final dataset: \\r\\n', df.head(), '\\r\\n')\n",
    "\n",
    "# Machine failure dataset\n",
    "print('Machine failure dataset: \\r\\n', df[df['Machine failure'] != 0].head())"
   ]
  },
  {
   "cell_type": "markdown",
   "metadata": {},
   "source": [
    "## References\n",
    "*AI4I 2020 Predictive Maintenance Dataset. (2020)*. UCI Machine Learning Repository. https://doi.org/10.24432/C5HS5C."
   ]
  }
 ],
 "metadata": {
  "kernelspec": {
   "display_name": "base",
   "language": "python",
   "name": "python3"
  },
  "language_info": {
   "codemirror_mode": {
    "name": "ipython",
    "version": 3
   },
   "file_extension": ".py",
   "mimetype": "text/x-python",
   "name": "python",
   "nbconvert_exporter": "python",
   "pygments_lexer": "ipython3",
   "version": "3.11.7"
  }
 },
 "nbformat": 4,
 "nbformat_minor": 2
}
