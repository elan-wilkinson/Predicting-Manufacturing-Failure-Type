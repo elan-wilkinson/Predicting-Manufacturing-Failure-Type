{
 "cells": [
  {
   "cell_type": "markdown",
   "metadata": {},
   "source": [
    "# Team 4 Machine Predictive Maintenance Classification"
   ]
  },
  {
   "cell_type": "markdown",
   "metadata": {},
   "source": [
    "### Contributors: Elan Wilkinson, Zack Robertson, Alden Caterio, Laxmi Sulakshana Rapolu\n",
    "\n",
    "Using the available machine production data, we will predict likely future failure and type. The data available is comprised of temperature readings, readings from and measurement data from the equipment, product quality variants, failure states, and failure types. Multiple modeling approaches will be evaluated, with a particular emphasis on leveraging ensemble methods."
   ]
  },
  {
   "cell_type": "code",
   "execution_count": 2,
   "metadata": {},
   "outputs": [
    {
     "name": "stderr",
     "output_type": "stream",
     "text": [
      "c:\\Users\\elanw\\anaconda3\\Lib\\site-packages\\pandas\\core\\arrays\\masked.py:60: UserWarning: Pandas requires version '1.3.6' or newer of 'bottleneck' (version '1.3.5' currently installed).\n",
      "  from pandas.core import (\n"
     ]
    }
   ],
   "source": [
    "import pandas as pd\n",
    "import numpy as np"
   ]
  },
  {
   "cell_type": "code",
   "execution_count": 3,
   "metadata": {},
   "outputs": [],
   "source": [
    "machining_failure_data = pd.read_csv('predictive_maintenance.csv')"
   ]
  },
  {
   "cell_type": "code",
   "execution_count": 7,
   "metadata": {},
   "outputs": [],
   "source": [
    "failure_status = machining_failure_data['Target']\n",
    "failure_types = machining_failure_data['Failure Type']\n",
    "\n",
    "id_cols = ['UDI','Product ID']\n",
    "\n",
    "machining_failure_data = machining_failure_data.drop(id_cols, axis=1)\n",
    "machining_failure_data = machining_failure_data.drop('Target', axis=1)\n",
    "machining_failure_data = machining_failure_data.drop('Failure Type', axis=1)"
   ]
  }
 ],
 "metadata": {
  "kernelspec": {
   "display_name": "base",
   "language": "python",
   "name": "python3"
  },
  "language_info": {
   "codemirror_mode": {
    "name": "ipython",
    "version": 3
   },
   "file_extension": ".py",
   "mimetype": "text/x-python",
   "name": "python",
   "nbconvert_exporter": "python",
   "pygments_lexer": "ipython3",
   "version": "3.11.4"
  }
 },
 "nbformat": 4,
 "nbformat_minor": 2
}
